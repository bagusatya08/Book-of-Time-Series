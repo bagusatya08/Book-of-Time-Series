{
 "cells": [
  {
   "cell_type": "code",
   "execution_count": 1,
   "metadata": {
    "colab": {},
    "colab_type": "code",
    "id": "rgI5xsf7eUVw",
    "tags": []
   },
   "outputs": [
    {
     "name": "stdout",
     "output_type": "stream",
     "text": [
      "Requirement already satisfied: pmdarima in /Users/bagussatya/anaconda3/lib/python3.11/site-packages (2.0.4)\n",
      "Requirement already satisfied: joblib>=0.11 in /Users/bagussatya/anaconda3/lib/python3.11/site-packages (from pmdarima) (1.2.0)\n",
      "Requirement already satisfied: Cython!=0.29.18,!=0.29.31,>=0.29 in /Users/bagussatya/anaconda3/lib/python3.11/site-packages (from pmdarima) (3.0.10)\n",
      "Requirement already satisfied: numpy>=1.21.2 in /Users/bagussatya/anaconda3/lib/python3.11/site-packages (from pmdarima) (1.24.4)\n",
      "Requirement already satisfied: pandas>=0.19 in /Users/bagussatya/anaconda3/lib/python3.11/site-packages (from pmdarima) (1.5.3)\n",
      "Requirement already satisfied: scikit-learn>=0.22 in /Users/bagussatya/anaconda3/lib/python3.11/site-packages (from pmdarima) (1.3.0)\n",
      "Requirement already satisfied: scipy>=1.3.2 in /Users/bagussatya/anaconda3/lib/python3.11/site-packages (from pmdarima) (1.10.1)\n",
      "Requirement already satisfied: statsmodels>=0.13.2 in /Users/bagussatya/anaconda3/lib/python3.11/site-packages (from pmdarima) (0.14.0)\n",
      "Requirement already satisfied: urllib3 in /Users/bagussatya/anaconda3/lib/python3.11/site-packages (from pmdarima) (1.26.16)\n",
      "Requirement already satisfied: setuptools!=50.0.0,>=38.6.0 in /Users/bagussatya/anaconda3/lib/python3.11/site-packages (from pmdarima) (68.0.0)\n",
      "Requirement already satisfied: packaging>=17.1 in /Users/bagussatya/anaconda3/lib/python3.11/site-packages (from pmdarima) (23.0)\n",
      "Requirement already satisfied: python-dateutil>=2.8.1 in /Users/bagussatya/anaconda3/lib/python3.11/site-packages (from pandas>=0.19->pmdarima) (2.8.2)\n",
      "Requirement already satisfied: pytz>=2020.1 in /Users/bagussatya/anaconda3/lib/python3.11/site-packages (from pandas>=0.19->pmdarima) (2022.7)\n",
      "Requirement already satisfied: threadpoolctl>=2.0.0 in /Users/bagussatya/anaconda3/lib/python3.11/site-packages (from scikit-learn>=0.22->pmdarima) (2.2.0)\n",
      "Requirement already satisfied: patsy>=0.5.2 in /Users/bagussatya/anaconda3/lib/python3.11/site-packages (from statsmodels>=0.13.2->pmdarima) (0.5.3)\n",
      "Requirement already satisfied: six in /Users/bagussatya/anaconda3/lib/python3.11/site-packages (from patsy>=0.5.2->statsmodels>=0.13.2->pmdarima) (1.16.0)\n"
     ]
    }
   ],
   "source": [
    "!pip install pmdarima"
   ]
  },
  {
   "cell_type": "code",
   "execution_count": 2,
   "metadata": {
    "colab": {},
    "colab_type": "code",
    "id": "sJUCGgJAeXmn",
    "tags": []
   },
   "outputs": [],
   "source": [
    "import pandas as pd\n",
    "import numpy as np"
   ]
  },
  {
   "cell_type": "code",
   "execution_count": 3,
   "metadata": {
    "tags": []
   },
   "outputs": [],
   "source": [
    "import matplotlib.pyplot as plt"
   ]
  },
  {
   "cell_type": "markdown",
   "metadata": {
    "colab_type": "text",
    "id": "kzMWL_bGvvuY"
   },
   "source": [
    "# Read Data"
   ]
  },
  {
   "cell_type": "code",
   "execution_count": 5,
   "metadata": {
    "colab": {
     "base_uri": "https://localhost:8080/",
     "height": 243
    },
    "colab_type": "code",
    "id": "rKYgCgvcebUM",
    "outputId": "8d11db02-ce47-432f-a9f6-dd8b06c79dd3",
    "tags": []
   },
   "outputs": [
    {
     "name": "stdout",
     "output_type": "stream",
     "text": [
      "Shape of data (882, 6)\n"
     ]
    },
    {
     "data": {
      "text/html": [
       "<div>\n",
       "<style scoped>\n",
       "    .dataframe tbody tr th:only-of-type {\n",
       "        vertical-align: middle;\n",
       "    }\n",
       "\n",
       "    .dataframe tbody tr th {\n",
       "        vertical-align: top;\n",
       "    }\n",
       "\n",
       "    .dataframe thead th {\n",
       "        text-align: right;\n",
       "    }\n",
       "</style>\n",
       "<table border=\"1\" class=\"dataframe\">\n",
       "  <thead>\n",
       "    <tr style=\"text-align: right;\">\n",
       "      <th></th>\n",
       "      <th>Price</th>\n",
       "      <th>Open</th>\n",
       "      <th>High</th>\n",
       "      <th>Low</th>\n",
       "      <th>Vol.</th>\n",
       "      <th>Change %</th>\n",
       "    </tr>\n",
       "    <tr>\n",
       "      <th>Date</th>\n",
       "      <th></th>\n",
       "      <th></th>\n",
       "      <th></th>\n",
       "      <th></th>\n",
       "      <th></th>\n",
       "      <th></th>\n",
       "    </tr>\n",
       "  </thead>\n",
       "  <tbody>\n",
       "    <tr>\n",
       "      <th>2024-05-13</th>\n",
       "      <td>194,300</td>\n",
       "      <td>201,000</td>\n",
       "      <td>200,500</td>\n",
       "      <td>194,000</td>\n",
       "      <td>317.63K</td>\n",
       "      <td>-3.09%</td>\n",
       "    </tr>\n",
       "    <tr>\n",
       "      <th>2024-05-10</th>\n",
       "      <td>200,500</td>\n",
       "      <td>199,800</td>\n",
       "      <td>202,500</td>\n",
       "      <td>196,700</td>\n",
       "      <td>245.05K</td>\n",
       "      <td>0.30%</td>\n",
       "    </tr>\n",
       "    <tr>\n",
       "      <th>2024-05-09</th>\n",
       "      <td>199,900</td>\n",
       "      <td>202,500</td>\n",
       "      <td>203,000</td>\n",
       "      <td>199,700</td>\n",
       "      <td>291.61K</td>\n",
       "      <td>-1.53%</td>\n",
       "    </tr>\n",
       "    <tr>\n",
       "      <th>2024-05-08</th>\n",
       "      <td>203,000</td>\n",
       "      <td>204,500</td>\n",
       "      <td>205,500</td>\n",
       "      <td>202,500</td>\n",
       "      <td>197.43K</td>\n",
       "      <td>-0.73%</td>\n",
       "    </tr>\n",
       "    <tr>\n",
       "      <th>2024-05-07</th>\n",
       "      <td>204,500</td>\n",
       "      <td>204,000</td>\n",
       "      <td>204,500</td>\n",
       "      <td>201,000</td>\n",
       "      <td>268.20K</td>\n",
       "      <td>0.49%</td>\n",
       "    </tr>\n",
       "  </tbody>\n",
       "</table>\n",
       "</div>"
      ],
      "text/plain": [
       "              Price     Open     High      Low     Vol. Change %\n",
       "Date                                                            \n",
       "2024-05-13  194,300  201,000  200,500  194,000  317.63K   -3.09%\n",
       "2024-05-10  200,500  199,800  202,500  196,700  245.05K    0.30%\n",
       "2024-05-09  199,900  202,500  203,000  199,700  291.61K   -1.53%\n",
       "2024-05-08  203,000  204,500  205,500  202,500  197.43K   -0.73%\n",
       "2024-05-07  204,500  204,000  204,500  201,000  268.20K    0.49%"
      ]
     },
     "execution_count": 5,
     "metadata": {},
     "output_type": "execute_result"
    }
   ],
   "source": [
    "df=pd.read_csv('352820 Historical Data.csv',index_col='Date',parse_dates=True)\n",
    "df=df.dropna()\n",
    "print('Shape of data',df.shape)\n",
    "df.head()"
   ]
  },
  {
   "cell_type": "code",
   "execution_count": 10,
   "metadata": {
    "tags": []
   },
   "outputs": [],
   "source": [
    "df['Open'] = df['Open'].str.replace(',', '')\n",
    "df['Open'] = pd.to_numeric(df['Open'])"
   ]
  },
  {
   "cell_type": "code",
   "execution_count": 37,
   "metadata": {
    "tags": []
   },
   "outputs": [],
   "source": [
    "df.index = df.index.sort_values(ascending=True)"
   ]
  },
  {
   "cell_type": "code",
   "execution_count": 38,
   "metadata": {
    "tags": []
   },
   "outputs": [
    {
     "data": {
      "text/html": [
       "<div>\n",
       "<style scoped>\n",
       "    .dataframe tbody tr th:only-of-type {\n",
       "        vertical-align: middle;\n",
       "    }\n",
       "\n",
       "    .dataframe tbody tr th {\n",
       "        vertical-align: top;\n",
       "    }\n",
       "\n",
       "    .dataframe thead th {\n",
       "        text-align: right;\n",
       "    }\n",
       "</style>\n",
       "<table border=\"1\" class=\"dataframe\">\n",
       "  <thead>\n",
       "    <tr style=\"text-align: right;\">\n",
       "      <th></th>\n",
       "      <th>Price</th>\n",
       "      <th>Open</th>\n",
       "      <th>High</th>\n",
       "      <th>Low</th>\n",
       "      <th>Vol.</th>\n",
       "      <th>Change %</th>\n",
       "    </tr>\n",
       "    <tr>\n",
       "      <th>Date</th>\n",
       "      <th></th>\n",
       "      <th></th>\n",
       "      <th></th>\n",
       "      <th></th>\n",
       "      <th></th>\n",
       "      <th></th>\n",
       "    </tr>\n",
       "  </thead>\n",
       "  <tbody>\n",
       "    <tr>\n",
       "      <th>2020-10-16</th>\n",
       "      <td>194,300</td>\n",
       "      <td>201000</td>\n",
       "      <td>200,500</td>\n",
       "      <td>194,000</td>\n",
       "      <td>317.63K</td>\n",
       "      <td>-3.09%</td>\n",
       "    </tr>\n",
       "    <tr>\n",
       "      <th>2020-10-19</th>\n",
       "      <td>200,500</td>\n",
       "      <td>199800</td>\n",
       "      <td>202,500</td>\n",
       "      <td>196,700</td>\n",
       "      <td>245.05K</td>\n",
       "      <td>0.30%</td>\n",
       "    </tr>\n",
       "    <tr>\n",
       "      <th>2020-10-20</th>\n",
       "      <td>199,900</td>\n",
       "      <td>202500</td>\n",
       "      <td>203,000</td>\n",
       "      <td>199,700</td>\n",
       "      <td>291.61K</td>\n",
       "      <td>-1.53%</td>\n",
       "    </tr>\n",
       "    <tr>\n",
       "      <th>2020-10-21</th>\n",
       "      <td>203,000</td>\n",
       "      <td>204500</td>\n",
       "      <td>205,500</td>\n",
       "      <td>202,500</td>\n",
       "      <td>197.43K</td>\n",
       "      <td>-0.73%</td>\n",
       "    </tr>\n",
       "    <tr>\n",
       "      <th>2020-10-22</th>\n",
       "      <td>204,500</td>\n",
       "      <td>204000</td>\n",
       "      <td>204,500</td>\n",
       "      <td>201,000</td>\n",
       "      <td>268.20K</td>\n",
       "      <td>0.49%</td>\n",
       "    </tr>\n",
       "  </tbody>\n",
       "</table>\n",
       "</div>"
      ],
      "text/plain": [
       "              Price    Open     High      Low     Vol. Change %\n",
       "Date                                                           \n",
       "2020-10-16  194,300  201000  200,500  194,000  317.63K   -3.09%\n",
       "2020-10-19  200,500  199800  202,500  196,700  245.05K    0.30%\n",
       "2020-10-20  199,900  202500  203,000  199,700  291.61K   -1.53%\n",
       "2020-10-21  203,000  204500  205,500  202,500  197.43K   -0.73%\n",
       "2020-10-22  204,500  204000  204,500  201,000  268.20K    0.49%"
      ]
     },
     "execution_count": 38,
     "metadata": {},
     "output_type": "execute_result"
    }
   ],
   "source": [
    "df.head()"
   ]
  },
  {
   "cell_type": "code",
   "execution_count": 47,
   "metadata": {
    "tags": []
   },
   "outputs": [
    {
     "data": {
      "text/html": [
       "<div>\n",
       "<style scoped>\n",
       "    .dataframe tbody tr th:only-of-type {\n",
       "        vertical-align: middle;\n",
       "    }\n",
       "\n",
       "    .dataframe tbody tr th {\n",
       "        vertical-align: top;\n",
       "    }\n",
       "\n",
       "    .dataframe thead th {\n",
       "        text-align: right;\n",
       "    }\n",
       "</style>\n",
       "<table border=\"1\" class=\"dataframe\">\n",
       "  <thead>\n",
       "    <tr style=\"text-align: right;\">\n",
       "      <th></th>\n",
       "      <th>Price</th>\n",
       "      <th>Open</th>\n",
       "      <th>High</th>\n",
       "      <th>Low</th>\n",
       "      <th>Vol.</th>\n",
       "      <th>Change %</th>\n",
       "    </tr>\n",
       "    <tr>\n",
       "      <th>Date</th>\n",
       "      <th></th>\n",
       "      <th></th>\n",
       "      <th></th>\n",
       "      <th></th>\n",
       "      <th></th>\n",
       "      <th></th>\n",
       "    </tr>\n",
       "  </thead>\n",
       "  <tbody>\n",
       "    <tr>\n",
       "      <th>2024-05-07</th>\n",
       "      <td>178,200</td>\n",
       "      <td>174735</td>\n",
       "      <td>183,150</td>\n",
       "      <td>173,745</td>\n",
       "      <td>1.17M</td>\n",
       "      <td>0.56%</td>\n",
       "    </tr>\n",
       "    <tr>\n",
       "      <th>2024-05-08</th>\n",
       "      <td>177,210</td>\n",
       "      <td>178695</td>\n",
       "      <td>183,645</td>\n",
       "      <td>175,230</td>\n",
       "      <td>1.62M</td>\n",
       "      <td>-1.92%</td>\n",
       "    </tr>\n",
       "    <tr>\n",
       "      <th>2024-05-09</th>\n",
       "      <td>180,675</td>\n",
       "      <td>188100</td>\n",
       "      <td>191,565</td>\n",
       "      <td>174,240</td>\n",
       "      <td>1.77M</td>\n",
       "      <td>-3.44%</td>\n",
       "    </tr>\n",
       "    <tr>\n",
       "      <th>2024-05-10</th>\n",
       "      <td>187,110</td>\n",
       "      <td>196515</td>\n",
       "      <td>200,475</td>\n",
       "      <td>185,130</td>\n",
       "      <td>1.97M</td>\n",
       "      <td>-5.74%</td>\n",
       "    </tr>\n",
       "    <tr>\n",
       "      <th>2024-05-13</th>\n",
       "      <td>198,495</td>\n",
       "      <td>250470</td>\n",
       "      <td>250,470</td>\n",
       "      <td>197,010</td>\n",
       "      <td>4.44M</td>\n",
       "      <td>-22.29%</td>\n",
       "    </tr>\n",
       "  </tbody>\n",
       "</table>\n",
       "</div>"
      ],
      "text/plain": [
       "              Price    Open     High      Low   Vol. Change %\n",
       "Date                                                         \n",
       "2024-05-07  178,200  174735  183,150  173,745  1.17M    0.56%\n",
       "2024-05-08  177,210  178695  183,645  175,230  1.62M   -1.92%\n",
       "2024-05-09  180,675  188100  191,565  174,240  1.77M   -3.44%\n",
       "2024-05-10  187,110  196515  200,475  185,130  1.97M   -5.74%\n",
       "2024-05-13  198,495  250470  250,470  197,010  4.44M  -22.29%"
      ]
     },
     "execution_count": 47,
     "metadata": {},
     "output_type": "execute_result"
    }
   ],
   "source": [
    "df.tail()"
   ]
  },
  {
   "cell_type": "markdown",
   "metadata": {
    "colab_type": "text",
    "id": "kVswd7W7vyi4"
   },
   "source": [
    "# Plot Your Data"
   ]
  },
  {
   "cell_type": "code",
   "execution_count": 39,
   "metadata": {
    "colab": {
     "base_uri": "https://localhost:8080/",
     "height": 334
    },
    "colab_type": "code",
    "id": "KppUuT8-ejqD",
    "outputId": "aabcf955-c76b-436f-8f4d-b1f1f35a975c",
    "tags": []
   },
   "outputs": [
    {
     "data": {
      "image/png": "[encoded data removed]",
      "text/plain": [
       "<Figure size 1200x500 with 1 Axes>"
      ]
     },
     "metadata": {},
     "output_type": "display_data"
    }
   ],
   "source": [
    "df['Open'].plot(figsize=(12,5))\n",
    "plt.show()"
   ]
  },
  {
   "cell_type": "markdown",
   "metadata": {
    "colab_type": "text",
    "id": "2YK8qw2Gv1bT"
   },
   "source": [
    "# Check For Stationarity"
   ]
  },
  {
   "cell_type": "code",
   "execution_count": 40,
   "metadata": {
    "colab": {},
    "colab_type": "code",
    "id": "8TqnvNbBexKT",
    "tags": []
   },
   "outputs": [],
   "source": [
    "from statsmodels.tsa.stattools import adfuller\n",
    "\n",
    "def adf_test(dataset):\n",
    "  dftest = adfuller(dataset, autolag = 'AIC')\n",
    "  print(\"1. ADF : \",dftest[0])\n",
    "  print(\"2. P-Value : \", dftest[1])\n",
    "  print(\"3. Num Of Lags : \", dftest[2])\n",
    "  print(\"4. Num Of Observations Used For ADF Regression and Critical Values Calculation :\", dftest[3])\n",
    "  print(\"5. Critical Values :\")\n",
    "    \n",
    "  print(f\"\\n{dftest[1] > 0.05}\")\n",
    "  for key, val in dftest[4].items():\n",
    "      print(\"\\t\",key, \": \", val)"
   ]
  },
  {
   "cell_type": "code",
   "execution_count": 41,
   "metadata": {
    "colab": {
     "base_uri": "https://localhost:8080/",
     "height": 150
    },
    "colab_type": "code",
    "id": "muTlXcZYe3Jk",
    "outputId": "80456da0-cc9f-46a0-dbbc-875d9f8b5c51",
    "tags": []
   },
   "outputs": [
    {
     "name": "stdout",
     "output_type": "stream",
     "text": [
      "1. ADF :  -1.9307772769663167\n",
      "2. P-Value :  0.3177238643773448\n",
      "3. Num Of Lags :  0\n",
      "4. Num Of Observations Used For ADF Regression and Critical Values Calculation : 881\n",
      "5. Critical Values :\n",
      "\n",
      "True\n",
      "\t 1% :  -3.4377943310889303\n",
      "\t 5% :  -2.8648262173548456\n",
      "\t 10% :  -2.5685198165973295\n"
     ]
    }
   ],
   "source": [
    "adf_test(df['Open'])"
   ]
  },
  {
   "cell_type": "markdown",
   "metadata": {
    "colab_type": "text",
    "id": "XE7o8ZDEv6TV"
   },
   "source": [
    "# Figure Out Order for ARIMA Model"
   ]
  },
  {
   "cell_type": "code",
   "execution_count": 42,
   "metadata": {
    "colab": {},
    "colab_type": "code",
    "id": "0Y1yq4A5e6j8",
    "tags": []
   },
   "outputs": [],
   "source": [
    "from pmdarima import auto_arima\n",
    "# Ignore harmless warnings\n",
    "import warnings\n",
    "warnings.filterwarnings(\"ignore\")"
   ]
  },
  {
   "cell_type": "code",
   "execution_count": 43,
   "metadata": {
    "colab": {
     "base_uri": "https://localhost:8080/",
     "height": 497
    },
    "colab_type": "code",
    "id": "6ikhqu-mfHCA",
    "outputId": "12c50b57-0a9c-4c14-c4a3-3061d4ebd954",
    "tags": []
   },
   "outputs": [
    {
     "name": "stdout",
     "output_type": "stream",
     "text": [
      "Performing stepwise search to minimize aic\n",
      " ARIMA(2,1,2)(0,0,0)[0] intercept   : AIC=inf, Time=0.54 sec\n",
      " ARIMA(0,1,0)(0,0,0)[0] intercept   : AIC=18270.603, Time=0.01 sec\n",
      " ARIMA(1,1,0)(0,0,0)[0] intercept   : AIC=18272.516, Time=0.02 sec\n",
      " ARIMA(0,1,1)(0,0,0)[0] intercept   : AIC=18272.525, Time=0.02 sec\n",
      " ARIMA(0,1,0)(0,0,0)[0]             : AIC=18268.651, Time=0.01 sec\n",
      " ARIMA(1,1,1)(0,0,0)[0] intercept   : AIC=18274.355, Time=0.15 sec\n",
      "\n",
      "Best model:  ARIMA(0,1,0)(0,0,0)[0]          \n",
      "Total fit time: 0.753 seconds\n"
     ]
    },
    {
     "data": {
      "text/html": [
       "<table class=\"simpletable\">\n",
       "<caption>SARIMAX Results</caption>\n",
       "<tr>\n",
       "  <th>Dep. Variable:</th>           <td>y</td>        <th>  No. Observations:  </th>    <td>882</td>   \n",
       "</tr>\n",
       "<tr>\n",
       "  <th>Model:</th>           <td>SARIMAX(0, 1, 0)</td> <th>  Log Likelihood     </th> <td>-9133.325</td>\n",
       "</tr>\n",
       "<tr>\n",
       "  <th>Date:</th>            <td>Mon, 03 Jun 2024</td> <th>  AIC                </th> <td>18268.651</td>\n",
       "</tr>\n",
       "<tr>\n",
       "  <th>Time:</th>                <td>02:06:20</td>     <th>  BIC                </th> <td>18273.432</td>\n",
       "</tr>\n",
       "<tr>\n",
       "  <th>Sample:</th>                  <td>0</td>        <th>  HQIC               </th> <td>18270.479</td>\n",
       "</tr>\n",
       "<tr>\n",
       "  <th></th>                      <td> - 882</td>      <th>                     </th>     <td> </td>    \n",
       "</tr>\n",
       "<tr>\n",
       "  <th>Covariance Type:</th>        <td>opg</td>       <th>                     </th>     <td> </td>    \n",
       "</tr>\n",
       "</table>\n",
       "<table class=\"simpletable\">\n",
       "<tr>\n",
       "     <td></td>       <th>coef</th>     <th>std err</th>      <th>z</th>      <th>P>|z|</th>  <th>[0.025</th>    <th>0.975]</th>  \n",
       "</tr>\n",
       "<tr>\n",
       "  <th>sigma2</th> <td> 5.911e+07</td> <td> 1.68e+06</td> <td>   35.270</td> <td> 0.000</td> <td> 5.58e+07</td> <td> 6.24e+07</td>\n",
       "</tr>\n",
       "</table>\n",
       "<table class=\"simpletable\">\n",
       "<tr>\n",
       "  <th>Ljung-Box (L1) (Q):</th>     <td>0.28</td> <th>  Jarque-Bera (JB):  </th> <td>495.25</td>\n",
       "</tr>\n",
       "<tr>\n",
       "  <th>Prob(Q):</th>                <td>0.60</td> <th>  Prob(JB):          </th>  <td>0.00</td> \n",
       "</tr>\n",
       "<tr>\n",
       "  <th>Heteroskedasticity (H):</th> <td>1.90</td> <th>  Skew:              </th>  <td>0.29</td> \n",
       "</tr>\n",
       "<tr>\n",
       "  <th>Prob(H) (two-sided):</th>    <td>0.00</td> <th>  Kurtosis:          </th>  <td>6.63</td> \n",
       "</tr>\n",
       "</table><br/><br/>Warnings:<br/>[1] Covariance matrix calculated using the outer product of gradients (complex-step)."
      ],
      "text/latex": [
       "\\begin{center}\n",
       "\\begin{tabular}{lclc}\n",
       "\\toprule\n",
       "\\textbf{Dep. Variable:}          &        y         & \\textbf{  No. Observations:  } &    882      \\\\\n",
       "\\textbf{Model:}                  & SARIMAX(0, 1, 0) & \\textbf{  Log Likelihood     } & -9133.325   \\\\\n",
       "\\textbf{Date:}                   & Mon, 03 Jun 2024 & \\textbf{  AIC                } & 18268.651   \\\\\n",
       "\\textbf{Time:}                   &     02:06:20     & \\textbf{  BIC                } & 18273.432   \\\\\n",
       "\\textbf{Sample:}                 &        0         & \\textbf{  HQIC               } & 18270.479   \\\\\n",
       "\\textbf{}                        &       - 882      & \\textbf{                     } &             \\\\\n",
       "\\textbf{Covariance Type:}        &       opg        & \\textbf{                     } &             \\\\\n",
       "\\bottomrule\n",
       "\\end{tabular}\n",
       "\\begin{tabular}{lcccccc}\n",
       "                & \\textbf{coef} & \\textbf{std err} & \\textbf{z} & \\textbf{P$> |$z$|$} & \\textbf{[0.025} & \\textbf{0.975]}  \\\\\n",
       "\\midrule\n",
       "\\textbf{sigma2} &    5.911e+07  &     1.68e+06     &    35.270  &         0.000        &     5.58e+07    &     6.24e+07     \\\\\n",
       "\\bottomrule\n",
       "\\end{tabular}\n",
       "\\begin{tabular}{lclc}\n",
       "\\textbf{Ljung-Box (L1) (Q):}     & 0.28 & \\textbf{  Jarque-Bera (JB):  } & 495.25  \\\\\n",
       "\\textbf{Prob(Q):}                & 0.60 & \\textbf{  Prob(JB):          } &  0.00   \\\\\n",
       "\\textbf{Heteroskedasticity (H):} & 1.90 & \\textbf{  Skew:              } &  0.29   \\\\\n",
       "\\textbf{Prob(H) (two-sided):}    & 0.00 & \\textbf{  Kurtosis:          } &  6.63   \\\\\n",
       "\\bottomrule\n",
       "\\end{tabular}\n",
       "%\\caption{SARIMAX Results}\n",
       "\\end{center}\n",
       "\n",
       "Warnings: \\newline\n",
       " [1] Covariance matrix calculated using the outer product of gradients (complex-step)."
      ],
      "text/plain": [
       "<class 'statsmodels.iolib.summary.Summary'>\n",
       "\"\"\"\n",
       "                               SARIMAX Results                                \n",
       "==============================================================================\n",
       "Dep. Variable:                      y   No. Observations:                  882\n",
       "Model:               SARIMAX(0, 1, 0)   Log Likelihood               -9133.325\n",
       "Date:                Mon, 03 Jun 2024   AIC                          18268.651\n",
       "Time:                        02:06:20   BIC                          18273.432\n",
       "Sample:                             0   HQIC                         18270.479\n",
       "                                - 882                                         \n",
       "Covariance Type:                  opg                                         \n",
       "==============================================================================\n",
       "                 coef    std err          z      P>|z|      [0.025      0.975]\n",
       "------------------------------------------------------------------------------\n",
       "sigma2      5.911e+07   1.68e+06     35.270      0.000    5.58e+07    6.24e+07\n",
       "===================================================================================\n",
       "Ljung-Box (L1) (Q):                   0.28   Jarque-Bera (JB):               495.25\n",
       "Prob(Q):                              0.60   Prob(JB):                         0.00\n",
       "Heteroskedasticity (H):               1.90   Skew:                             0.29\n",
       "Prob(H) (two-sided):                  0.00   Kurtosis:                         6.63\n",
       "===================================================================================\n",
       "\n",
       "Warnings:\n",
       "[1] Covariance matrix calculated using the outer product of gradients (complex-step).\n",
       "\"\"\""
      ]
     },
     "execution_count": 43,
     "metadata": {},
     "output_type": "execute_result"
    }
   ],
   "source": [
    "stepwise_fit = auto_arima(df['Open'], \n",
    "                          suppress_warnings=True,\n",
    "                         trace=True)           \n",
    "\n",
    "stepwise_fit.summary()"
   ]
  },
  {
   "cell_type": "code",
   "execution_count": 44,
   "metadata": {
    "colab": {},
    "colab_type": "code",
    "id": "i2OiS6-gfKHs",
    "tags": []
   },
   "outputs": [],
   "source": [
    "from statsmodels.tsa.arima_model import ARIMA"
   ]
  },
  {
   "cell_type": "markdown",
   "metadata": {
    "colab_type": "text",
    "id": "y-JQDC6yv9_y"
   },
   "source": [
    "# Split Data into Training and Testing"
   ]
  },
  {
   "cell_type": "code",
   "execution_count": 45,
   "metadata": {
    "colab": {
     "base_uri": "https://localhost:8080/",
     "height": 234
    },
    "colab_type": "code",
    "id": "h-SgGft2fYMF",
    "outputId": "44f0e4aa-b673-4f81-e3cb-a9ee81948ee4",
    "tags": []
   },
   "outputs": [
    {
     "name": "stdout",
     "output_type": "stream",
     "text": [
      "(882, 6)\n",
      "(852, 6) (30, 6)\n",
      "Price       174,240\n",
      "Open         175230\n",
      "High        179,685\n",
      "Low         173,250\n",
      "Vol.        343.49K\n",
      "Change %      1.15%\n",
      "Name: 2024-03-28 00:00:00, dtype: object Price       198,495\n",
      "Open         250470\n",
      "High        250,470\n",
      "Low         197,010\n",
      "Vol.          4.44M\n",
      "Change %    -22.29%\n",
      "Name: 2024-05-13 00:00:00, dtype: object\n"
     ]
    }
   ],
   "source": [
    "print(df.shape)\n",
    "train=df.iloc[:-30]\n",
    "test=df.iloc[-30:]\n",
    "print(train.shape,test.shape)\n",
    "print(test.iloc[0],test.iloc[-1])"
   ]
  },
  {
   "cell_type": "markdown",
   "metadata": {
    "colab_type": "text",
    "id": "emUTK7M6wCmx"
   },
   "source": [
    "## Train the Model"
   ]
  },
  {
   "cell_type": "code",
   "execution_count": 54,
   "metadata": {
    "colab": {
     "base_uri": "https://localhost:8080/",
     "height": 470
    },
    "colab_type": "code",
    "id": "LKr5XHt0fbWT",
    "outputId": "78d6a43a-ed4b-48b3-9bea-20fb185ed8e4",
    "tags": []
   },
   "outputs": [
    {
     "data": {
      "text/html": [
       "<table class=\"simpletable\">\n",
       "<caption>SARIMAX Results</caption>\n",
       "<tr>\n",
       "  <th>Dep. Variable:</th>         <td>Open</td>       <th>  No. Observations:  </th>    <td>852</td>   \n",
       "</tr>\n",
       "<tr>\n",
       "  <th>Model:</th>            <td>ARIMA(0, 1, 0)</td>  <th>  Log Likelihood     </th> <td>-8798.313</td>\n",
       "</tr>\n",
       "<tr>\n",
       "  <th>Date:</th>            <td>Mon, 03 Jun 2024</td> <th>  AIC                </th> <td>17598.625</td>\n",
       "</tr>\n",
       "<tr>\n",
       "  <th>Time:</th>                <td>02:09:05</td>     <th>  BIC                </th> <td>17603.371</td>\n",
       "</tr>\n",
       "<tr>\n",
       "  <th>Sample:</th>                  <td>0</td>        <th>  HQIC               </th> <td>17600.443</td>\n",
       "</tr>\n",
       "<tr>\n",
       "  <th></th>                      <td> - 852</td>      <th>                     </th>     <td> </td>    \n",
       "</tr>\n",
       "<tr>\n",
       "  <th>Covariance Type:</th>        <td>opg</td>       <th>                     </th>     <td> </td>    \n",
       "</tr>\n",
       "</table>\n",
       "<table class=\"simpletable\">\n",
       "<tr>\n",
       "     <td></td>       <th>coef</th>     <th>std err</th>      <th>z</th>      <th>P>|z|</th>  <th>[0.025</th>    <th>0.975]</th>  \n",
       "</tr>\n",
       "<tr>\n",
       "  <th>sigma2</th> <td> 5.587e+07</td> <td> 2.07e+06</td> <td>   26.977</td> <td> 0.000</td> <td> 5.18e+07</td> <td> 5.99e+07</td>\n",
       "</tr>\n",
       "</table>\n",
       "<table class=\"simpletable\">\n",
       "<tr>\n",
       "  <th>Ljung-Box (L1) (Q):</th>     <td>0.03</td> <th>  Jarque-Bera (JB):  </th> <td>71.64</td>\n",
       "</tr>\n",
       "<tr>\n",
       "  <th>Prob(Q):</th>                <td>0.87</td> <th>  Prob(JB):          </th> <td>0.00</td> \n",
       "</tr>\n",
       "<tr>\n",
       "  <th>Heteroskedasticity (H):</th> <td>1.78</td> <th>  Skew:              </th> <td>-0.08</td>\n",
       "</tr>\n",
       "<tr>\n",
       "  <th>Prob(H) (two-sided):</th>    <td>0.00</td> <th>  Kurtosis:          </th> <td>4.41</td> \n",
       "</tr>\n",
       "</table><br/><br/>Warnings:<br/>[1] Covariance matrix calculated using the outer product of gradients (complex-step)."
      ],
      "text/latex": [
       "\\begin{center}\n",
       "\\begin{tabular}{lclc}\n",
       "\\toprule\n",
       "\\textbf{Dep. Variable:}          &       Open       & \\textbf{  No. Observations:  } &    852      \\\\\n",
       "\\textbf{Model:}                  &  ARIMA(0, 1, 0)  & \\textbf{  Log Likelihood     } & -8798.313   \\\\\n",
       "\\textbf{Date:}                   & Mon, 03 Jun 2024 & \\textbf{  AIC                } & 17598.625   \\\\\n",
       "\\textbf{Time:}                   &     02:09:05     & \\textbf{  BIC                } & 17603.371   \\\\\n",
       "\\textbf{Sample:}                 &        0         & \\textbf{  HQIC               } & 17600.443   \\\\\n",
       "\\textbf{}                        &       - 852      & \\textbf{                     } &             \\\\\n",
       "\\textbf{Covariance Type:}        &       opg        & \\textbf{                     } &             \\\\\n",
       "\\bottomrule\n",
       "\\end{tabular}\n",
       "\\begin{tabular}{lcccccc}\n",
       "                & \\textbf{coef} & \\textbf{std err} & \\textbf{z} & \\textbf{P$> |$z$|$} & \\textbf{[0.025} & \\textbf{0.975]}  \\\\\n",
       "\\midrule\n",
       "\\textbf{sigma2} &    5.587e+07  &     2.07e+06     &    26.977  &         0.000        &     5.18e+07    &     5.99e+07     \\\\\n",
       "\\bottomrule\n",
       "\\end{tabular}\n",
       "\\begin{tabular}{lclc}\n",
       "\\textbf{Ljung-Box (L1) (Q):}     & 0.03 & \\textbf{  Jarque-Bera (JB):  } & 71.64  \\\\\n",
       "\\textbf{Prob(Q):}                & 0.87 & \\textbf{  Prob(JB):          } &  0.00  \\\\\n",
       "\\textbf{Heteroskedasticity (H):} & 1.78 & \\textbf{  Skew:              } & -0.08  \\\\\n",
       "\\textbf{Prob(H) (two-sided):}    & 0.00 & \\textbf{  Kurtosis:          } &  4.41  \\\\\n",
       "\\bottomrule\n",
       "\\end{tabular}\n",
       "%\\caption{SARIMAX Results}\n",
       "\\end{center}\n",
       "\n",
       "Warnings: \\newline\n",
       " [1] Covariance matrix calculated using the outer product of gradients (complex-step)."
      ],
      "text/plain": [
       "<class 'statsmodels.iolib.summary.Summary'>\n",
       "\"\"\"\n",
       "                               SARIMAX Results                                \n",
       "==============================================================================\n",
       "Dep. Variable:                   Open   No. Observations:                  852\n",
       "Model:                 ARIMA(0, 1, 0)   Log Likelihood               -8798.313\n",
       "Date:                Mon, 03 Jun 2024   AIC                          17598.625\n",
       "Time:                        02:09:05   BIC                          17603.371\n",
       "Sample:                             0   HQIC                         17600.443\n",
       "                                - 852                                         \n",
       "Covariance Type:                  opg                                         \n",
       "==============================================================================\n",
       "                 coef    std err          z      P>|z|      [0.025      0.975]\n",
       "------------------------------------------------------------------------------\n",
       "sigma2      5.587e+07   2.07e+06     26.977      0.000    5.18e+07    5.99e+07\n",
       "===================================================================================\n",
       "Ljung-Box (L1) (Q):                   0.03   Jarque-Bera (JB):                71.64\n",
       "Prob(Q):                              0.87   Prob(JB):                         0.00\n",
       "Heteroskedasticity (H):               1.78   Skew:                            -0.08\n",
       "Prob(H) (two-sided):                  0.00   Kurtosis:                         4.41\n",
       "===================================================================================\n",
       "\n",
       "Warnings:\n",
       "[1] Covariance matrix calculated using the outer product of gradients (complex-step).\n",
       "\"\"\""
      ]
     },
     "execution_count": 54,
     "metadata": {},
     "output_type": "execute_result"
    }
   ],
   "source": [
    "from statsmodels.tsa.arima.model import ARIMA\n",
    "model=ARIMA(train['Open'],order=(0,1,0))\n",
    "model=model.fit()\n",
    "model.summary()\n"
   ]
  },
  {
   "cell_type": "markdown",
   "metadata": {
    "colab_type": "text",
    "id": "QnJXQ4iBwFec"
   },
   "source": [
    "# Make Predictions on Test Set"
   ]
  },
  {
   "cell_type": "code",
   "execution_count": 55,
   "metadata": {
    "colab": {
     "base_uri": "https://localhost:8080/",
     "height": 331
    },
    "colab_type": "code",
    "id": "2ZtJTygKfg5i",
    "outputId": "46053cf4-b267-4cb8-c89d-fbb7f1fc079c",
    "tags": []
   },
   "outputs": [
    {
     "data": {
      "text/plain": [
       "<Axes: xlabel='Date'>"
      ]
     },
     "execution_count": 55,
     "metadata": {},
     "output_type": "execute_result"
    },
    {
     "data": {
      "image/png": "[encoded data removed]",
      "text/plain": [
       "<Figure size 640x480 with 1 Axes>"
      ]
     },
     "metadata": {},
     "output_type": "display_data"
    }
   ],
   "source": [
    "start=len(train)\n",
    "end=len(train)+len(test)-1\n",
    "\n",
    "#if the predicted values dont have date values as index, you will have to uncomment the following two commented lines to plot a graph\n",
    "index_future_dates=pd.date_range(start='2024-05-14',end='2024-06-12')\n",
    "pred=model.predict(start=start,end=end,typ='levels').rename('ARIMA predictions')\n",
    "\n",
    "pred.index=index_future_dates\n",
    "pred.plot(legend=True)\n",
    "test['Open'].plot(legend=True)"
   ]
  },
  {
   "cell_type": "code",
   "execution_count": 56,
   "metadata": {
    "colab": {
     "base_uri": "https://localhost:8080/",
     "height": 331
    },
    "colab_type": "code",
    "id": "grTT31Tdfqfb",
    "outputId": "8caf1342-cc91-496f-c4ca-9159007add83",
    "tags": []
   },
   "outputs": [
    {
     "data": {
      "text/plain": [
       "<Axes: xlabel='Date'>"
      ]
     },
     "execution_count": 56,
     "metadata": {},
     "output_type": "execute_result"
    },
    {
     "data": {
      "image/png": "[encoded data removed]",
      "text/plain": [
       "<Figure size 640x480 with 1 Axes>"
      ]
     },
     "metadata": {},
     "output_type": "display_data"
    }
   ],
   "source": [
    "pred.plot(legend='ARIMA Predictions')\n",
    "test['Open'].plot(legend=True)"
   ]
  },
  {
   "cell_type": "code",
   "execution_count": 57,
   "metadata": {
    "colab": {
     "base_uri": "https://localhost:8080/",
     "height": 33
    },
    "colab_type": "code",
    "id": "3R2eTZHDfz5H",
    "outputId": "8dcb8e41-f96d-4adf-9784-21342aacb1a4",
    "tags": []
   },
   "outputs": [
    {
     "data": {
      "text/plain": [
       "169950.0"
      ]
     },
     "execution_count": 57,
     "metadata": {},
     "output_type": "execute_result"
    }
   ],
   "source": [
    "test['Open'].mean()"
   ]
  },
  {
   "cell_type": "code",
   "execution_count": 58,
   "metadata": {
    "colab": {
     "base_uri": "https://localhost:8080/",
     "height": 33
    },
    "colab_type": "code",
    "id": "zQ7SB2lQux5x",
    "outputId": "740e2eeb-e2b0-42ac-ec76-58da663146e9",
    "tags": []
   },
   "outputs": [
    {
     "name": "stdout",
     "output_type": "stream",
     "text": [
      "21431.08011743692\n"
     ]
    }
   ],
   "source": [
    "from sklearn.metrics import mean_squared_error\n",
    "from math import sqrt\n",
    "rmse=sqrt(mean_squared_error(pred,test['Open']))\n",
    "print(rmse)\n"
   ]
  },
  {
   "cell_type": "code",
   "execution_count": 59,
   "metadata": {
    "colab": {
     "base_uri": "https://localhost:8080/",
     "height": 226
    },
    "colab_type": "code",
    "id": "DgJUq_lGvV10",
    "outputId": "c4087b3d-d92b-44ce-b116-fa1c7ffd3b47",
    "tags": []
   },
   "outputs": [
    {
     "data": {
      "text/html": [
       "<div>\n",
       "<style scoped>\n",
       "    .dataframe tbody tr th:only-of-type {\n",
       "        vertical-align: middle;\n",
       "    }\n",
       "\n",
       "    .dataframe tbody tr th {\n",
       "        vertical-align: top;\n",
       "    }\n",
       "\n",
       "    .dataframe thead th {\n",
       "        text-align: right;\n",
       "    }\n",
       "</style>\n",
       "<table border=\"1\" class=\"dataframe\">\n",
       "  <thead>\n",
       "    <tr style=\"text-align: right;\">\n",
       "      <th></th>\n",
       "      <th>Price</th>\n",
       "      <th>Open</th>\n",
       "      <th>High</th>\n",
       "      <th>Low</th>\n",
       "      <th>Vol.</th>\n",
       "      <th>Change %</th>\n",
       "    </tr>\n",
       "    <tr>\n",
       "      <th>Date</th>\n",
       "      <th></th>\n",
       "      <th></th>\n",
       "      <th></th>\n",
       "      <th></th>\n",
       "      <th></th>\n",
       "      <th></th>\n",
       "    </tr>\n",
       "  </thead>\n",
       "  <tbody>\n",
       "    <tr>\n",
       "      <th>2024-05-07</th>\n",
       "      <td>178,200</td>\n",
       "      <td>174735</td>\n",
       "      <td>183,150</td>\n",
       "      <td>173,745</td>\n",
       "      <td>1.17M</td>\n",
       "      <td>0.56%</td>\n",
       "    </tr>\n",
       "    <tr>\n",
       "      <th>2024-05-08</th>\n",
       "      <td>177,210</td>\n",
       "      <td>178695</td>\n",
       "      <td>183,645</td>\n",
       "      <td>175,230</td>\n",
       "      <td>1.62M</td>\n",
       "      <td>-1.92%</td>\n",
       "    </tr>\n",
       "    <tr>\n",
       "      <th>2024-05-09</th>\n",
       "      <td>180,675</td>\n",
       "      <td>188100</td>\n",
       "      <td>191,565</td>\n",
       "      <td>174,240</td>\n",
       "      <td>1.77M</td>\n",
       "      <td>-3.44%</td>\n",
       "    </tr>\n",
       "    <tr>\n",
       "      <th>2024-05-10</th>\n",
       "      <td>187,110</td>\n",
       "      <td>196515</td>\n",
       "      <td>200,475</td>\n",
       "      <td>185,130</td>\n",
       "      <td>1.97M</td>\n",
       "      <td>-5.74%</td>\n",
       "    </tr>\n",
       "    <tr>\n",
       "      <th>2024-05-13</th>\n",
       "      <td>198,495</td>\n",
       "      <td>250470</td>\n",
       "      <td>250,470</td>\n",
       "      <td>197,010</td>\n",
       "      <td>4.44M</td>\n",
       "      <td>-22.29%</td>\n",
       "    </tr>\n",
       "  </tbody>\n",
       "</table>\n",
       "</div>"
      ],
      "text/plain": [
       "              Price    Open     High      Low   Vol. Change %\n",
       "Date                                                         \n",
       "2024-05-07  178,200  174735  183,150  173,745  1.17M    0.56%\n",
       "2024-05-08  177,210  178695  183,645  175,230  1.62M   -1.92%\n",
       "2024-05-09  180,675  188100  191,565  174,240  1.77M   -3.44%\n",
       "2024-05-10  187,110  196515  200,475  185,130  1.97M   -5.74%\n",
       "2024-05-13  198,495  250470  250,470  197,010  4.44M  -22.29%"
      ]
     },
     "execution_count": 59,
     "metadata": {},
     "output_type": "execute_result"
    }
   ],
   "source": [
    "model2=ARIMA(df['Open'],order=(1,0,1))\n",
    "model2=model2.fit()\n",
    "df.tail()"
   ]
  },
  {
   "cell_type": "markdown",
   "metadata": {
    "colab_type": "text",
    "id": "hQ4chXSmvSZw"
   },
   "source": [
    "# For Future Dates"
   ]
  },
  {
   "cell_type": "code",
   "execution_count": 61,
   "metadata": {
    "colab": {
     "base_uri": "https://localhost:8080/",
     "height": 552
    },
    "colab_type": "code",
    "id": "ZsjzMPfKqVag",
    "outputId": "8de3772d-8613-4db7-91d4-673d3a1909e9",
    "tags": []
   },
   "outputs": [
    {
     "name": "stdout",
     "output_type": "stream",
     "text": [
      "2024-05-14    251480.260511\n",
      "2024-05-15    251288.492343\n",
      "2024-05-16    251098.539159\n",
      "2024-05-17    250910.383780\n",
      "2024-05-18    250724.009193\n",
      "2024-05-19    250539.398542\n",
      "2024-05-20    250356.535133\n",
      "2024-05-21    250175.402428\n",
      "2024-05-22    249995.984049\n",
      "2024-05-23    249818.263770\n",
      "2024-05-24    249642.225518\n",
      "2024-05-25    249467.853375\n",
      "2024-05-26    249295.131572\n",
      "2024-05-27    249124.044489\n",
      "2024-05-28    248954.576654\n",
      "2024-05-29    248786.712743\n",
      "2024-05-30    248620.437574\n",
      "2024-05-31    248455.736112\n",
      "2024-06-01    248292.593461\n",
      "2024-06-02    248130.994869\n",
      "2024-06-03    247970.925722\n",
      "2024-06-04    247812.371544\n",
      "2024-06-05    247655.317997\n",
      "2024-06-06    247499.750879\n",
      "2024-06-07    247345.656121\n",
      "2024-06-08    247193.019788\n",
      "2024-06-09    247041.828077\n",
      "2024-06-10    246892.067315\n",
      "2024-06-11    246743.723960\n",
      "2024-06-12    246596.784595\n",
      "2024-06-13    246451.235934\n",
      "Freq: D, Name: ARIMA Predictions, dtype: float64\n"
     ]
    }
   ],
   "source": [
    "index_future_dates=pd.date_range(start='2024-05-14',end='2024-06-13')\n",
    "#print(index_future_dates)\n",
    "pred=model2.predict(start=len(df),end=len(df)+30,typ='levels').rename('ARIMA Predictions')\n",
    "#print(comp_pred)\n",
    "pred.index=index_future_dates\n",
    "print(pred)"
   ]
  },
  {
   "cell_type": "code",
   "execution_count": 62,
   "metadata": {
    "colab": {
     "base_uri": "https://localhost:8080/",
     "height": 372
    },
    "colab_type": "code",
    "id": "hPgempSauwqo",
    "outputId": "3dc42a39-ff4d-4c6e-ac68-0cef1ffe7d01",
    "tags": []
   },
   "outputs": [
    {
     "data": {
      "text/plain": [
       "<Axes: >"
      ]
     },
     "execution_count": 62,
     "metadata": {},
     "output_type": "execute_result"
    },
    {
     "data": {
      "image/png": "[encoded data removed]",
      "text/plain": [
       "<Figure size 1200x500 with 1 Axes>"
      ]
     },
     "metadata": {},
     "output_type": "display_data"
    }
   ],
   "source": [
    "pred.plot(figsize=(12,5),legend=True)"
   ]
  }
 ],
 "metadata": {
  "colab": {
   "authorship_tag": "ABX9TyNyCEF0bu5JjuFIh9AZRrLX",
   "collapsed_sections": [],
   "include_colab_link": true,
   "name": "Temperature_Forecast_ARIMA.ipynb",
   "provenance": [],
   "toc_visible": true
  },
  "kernelspec": {
   "display_name": "Python 3 (ipykernel)",
   "language": "python",
   "name": "python3"
  },
  "language_info": {
   "codemirror_mode": {
    "name": "ipython",
    "version": 3
   },
   "file_extension": ".py",
   "mimetype": "text/x-python",
   "name": "python",
   "nbconvert_exporter": "python",
   "pygments_lexer": "ipython3",
   "version": "3.11.4"
  }
 },
 "nbformat": 4,
 "nbformat_minor": 4
}
